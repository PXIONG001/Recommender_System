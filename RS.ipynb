{
 "metadata": {
  "language_info": {
   "codemirror_mode": {
    "name": "ipython",
    "version": 3
   },
   "file_extension": ".py",
   "mimetype": "text/x-python",
   "name": "python",
   "nbconvert_exporter": "python",
   "pygments_lexer": "ipython3",
   "version": "3.9.1"
  },
  "orig_nbformat": 4,
  "kernelspec": {
   "name": "python3",
   "display_name": "Python 3.9.1 64-bit"
  },
  "interpreter": {
   "hash": "f7b1196636743eac6eb4a1c509dd850da349332db74e6ef77e858b436db1ec98"
  }
 },
 "nbformat": 4,
 "nbformat_minor": 2,
 "cells": [
  {
   "cell_type": "code",
   "execution_count": 1,
   "metadata": {},
   "outputs": [],
   "source": [
    "# Import numpy \n",
    "import numpy as np\n",
    "\n",
    "# Import pandas\n",
    "import pandas as pd"
   ]
  },
  {
   "cell_type": "code",
   "execution_count": 6,
   "metadata": {},
   "outputs": [
    {
     "output_type": "execute_result",
     "data": {
      "text/plain": [
       "   user_id   movie title  rating\n",
       "0      196  Kolya (1996)       3\n",
       "1       63  Kolya (1996)       3\n",
       "2      226  Kolya (1996)       5\n",
       "3      154  Kolya (1996)       3\n",
       "4      306  Kolya (1996)       5"
      ],
      "text/html": "<div>\n<style scoped>\n    .dataframe tbody tr th:only-of-type {\n        vertical-align: middle;\n    }\n\n    .dataframe tbody tr th {\n        vertical-align: top;\n    }\n\n    .dataframe thead th {\n        text-align: right;\n    }\n</style>\n<table border=\"1\" class=\"dataframe\">\n  <thead>\n    <tr style=\"text-align: right;\">\n      <th></th>\n      <th>user_id</th>\n      <th>movie title</th>\n      <th>rating</th>\n    </tr>\n  </thead>\n  <tbody>\n    <tr>\n      <th>0</th>\n      <td>196</td>\n      <td>Kolya (1996)</td>\n      <td>3</td>\n    </tr>\n    <tr>\n      <th>1</th>\n      <td>63</td>\n      <td>Kolya (1996)</td>\n      <td>3</td>\n    </tr>\n    <tr>\n      <th>2</th>\n      <td>226</td>\n      <td>Kolya (1996)</td>\n      <td>5</td>\n    </tr>\n    <tr>\n      <th>3</th>\n      <td>154</td>\n      <td>Kolya (1996)</td>\n      <td>3</td>\n    </tr>\n    <tr>\n      <th>4</th>\n      <td>306</td>\n      <td>Kolya (1996)</td>\n      <td>5</td>\n    </tr>\n  </tbody>\n</table>\n</div>"
     },
     "metadata": {},
     "execution_count": 6
    }
   ],
   "source": [
    "columns = ['user_id', 'item_id', 'rating', 'timestamp']\n",
    "\n",
    "df = pd.read_csv('ml-100k/u.data', sep='\\t', names=columns)\n",
    "columns = ['item_id', 'movie title', 'release date', 'video release date', 'IMDb URL', 'unknown', 'Action', 'Adventure',\n",
    "          'Animation', 'Childrens', 'Comedy', 'Crime', 'Documentary', 'Drama', 'Fantasy', 'Film-Noir', 'Horror',\n",
    "          'Musical', 'Mystery', 'Romance', 'Sci-Fi', 'Thriller', 'War', 'Western']\n",
    "\n",
    "movies = pd.read_csv('ml-100k/u.item', sep='|', names=columns, encoding='latin-1')\n",
    "\n",
    "name_of_movies = movies[['item_id', 'movie title']]\n",
    "cm = pd.merge(df, movies, on='item_id')\n",
    "cm = cm[['user_id','movie title', 'rating']]\n",
    "cm.head()"
   ]
  },
  {
   "cell_type": "code",
   "execution_count": 8,
   "metadata": {},
   "outputs": [
    {
     "output_type": "stream",
     "name": "stdout",
     "text": [
      "    User ID                                           Movie  Ratings\n0       123                     Star Wars A New Hope (1977)      4.5\n1       123                               Braveheart (1995)      4.0\n2       123                            The Lion King (2019)      3.8\n3       123                                  Titanic (1997)      3.9\n4       123                               The Matrix (1999)      4.4\n5       123                                   Wall-E (2008)      4.5\n6       123                                 Deadpool (2016)      4.3\n7       123                           The Terminator (1984)      3.4\n8       123                    The Devil's Violinist (2013)      2.0\n9       123                  The Devil's Wears Prada (2006)      1.9\n10      123                   Spider-Man: Homecoming (2017)      4.6\n11      123                 The Last of the Mohicans (1992)      3.6\n12      123                              The Patriot (2000)      3.8\n13      123  Harry Potter and the Chamber of Secrets (2002)      4.1\n14      123                                     Cars (2006)      4.2\n15      123                 The Phantom of the Opera (2004)      4.0\n16      123                     Pride and Prejudice (2005)       3.6\n17      123                                  Top Gun (1986)      3.9\n18      123                        Bohemian Rhapsody (2018)      4.1\n"
     ]
    }
   ],
   "source": [
    "my_ratings = pd.read_csv('myratings.csv')\n",
    "print(my_ratings)"
   ]
  },
  {
   "cell_type": "code",
   "execution_count": 9,
   "metadata": {},
   "outputs": [],
   "source": [
    "cm = pd.concat([cm, my_ratings], axis=0)\n",
    "\n",
    "# rename the columns to userID, itemID, title, year, movie and rating\n",
    "cm.columns = ['userID', 'itemID', 'rating', 'title', 'year', 'movie']\n",
    "\n",
    "# use the transform method group by userID and count to keep the movies with more than 25 reviews\n",
    "cm['reviews'] = cm.groupby(['itemID'])['rating'].transform('count')\n",
    "\n",
    "cm = cm[cm.reviews>25][['userID', 'itemID', 'rating']]"
   ]
  },
  {
   "cell_type": "code",
   "execution_count": 10,
   "metadata": {},
   "outputs": [],
   "source": [
    "# Using the python package: surprise\n",
    "# Importing SVD, Reader, and Dataset\n",
    "from surprise import SVD, Reader, Dataset\n",
    "\n",
    "# Utilizing a model selection from surprise\n",
    "# Importing cross_validate\n",
    "from surprise.model_selection import cross_validate"
   ]
  },
  {
   "cell_type": "code",
   "execution_count": 11,
   "metadata": {},
   "outputs": [],
   "source": [
    "# A reader is still needed but only the rating_scale param is required.\n",
    "reader = Reader(rating_scale=(1, 5))\n",
    "\n",
    "data = Dataset.load_from_df(cm, reader)"
   ]
  },
  {
   "cell_type": "code",
   "execution_count": 13,
   "metadata": {},
   "outputs": [],
   "source": [
    "# get the list of the movie ids\n",
    "unique_ids = cm['itemID'].unique()\n",
    "\n",
    "# get the list of the ids that the userid 1001 has rated\n",
    "iids1001 = cm.loc[cm['userID']==1001, 'itemID']\n",
    "\n",
    "# remove the rated movies for the recommendations\n",
    "movies_to_predict = np.setdiff1d(unique_ids,iids1001)"
   ]
  },
  {
   "source": [
    "SVD (Singular Value Decomposition)"
   ],
   "cell_type": "markdown",
   "metadata": {}
  },
  {
   "cell_type": "code",
   "execution_count": 14,
   "metadata": {},
   "outputs": [
    {
     "output_type": "execute_result",
     "data": {
      "text/plain": [
       "                                                   iid  predictions\n",
       "171                              Close Shave, A (1995)     4.545516\n",
       "657                            Schindler's List (1993)     4.528626\n",
       "679                   Shawshank Redemption, The (1994)     4.514694\n",
       "845                         Wrong Trousers, The (1993)     4.513155\n",
       "143                                  Casablanca (1942)     4.493591\n",
       "821  Wallace & Gromit: The Best of Aardman Animatio...     4.486597\n",
       "621                                 Rear Window (1954)     4.417316\n",
       "1                                  12 Angry Men (1957)     4.404858\n",
       "809                         Usual Suspects, The (1995)     4.391677\n",
       "763                              Third Man, The (1949)     4.380057"
      ],
      "text/html": "<div>\n<style scoped>\n    .dataframe tbody tr th:only-of-type {\n        vertical-align: middle;\n    }\n\n    .dataframe tbody tr th {\n        vertical-align: top;\n    }\n\n    .dataframe thead th {\n        text-align: right;\n    }\n</style>\n<table border=\"1\" class=\"dataframe\">\n  <thead>\n    <tr style=\"text-align: right;\">\n      <th></th>\n      <th>iid</th>\n      <th>predictions</th>\n    </tr>\n  </thead>\n  <tbody>\n    <tr>\n      <th>171</th>\n      <td>Close Shave, A (1995)</td>\n      <td>4.545516</td>\n    </tr>\n    <tr>\n      <th>657</th>\n      <td>Schindler's List (1993)</td>\n      <td>4.528626</td>\n    </tr>\n    <tr>\n      <th>679</th>\n      <td>Shawshank Redemption, The (1994)</td>\n      <td>4.514694</td>\n    </tr>\n    <tr>\n      <th>845</th>\n      <td>Wrong Trousers, The (1993)</td>\n      <td>4.513155</td>\n    </tr>\n    <tr>\n      <th>143</th>\n      <td>Casablanca (1942)</td>\n      <td>4.493591</td>\n    </tr>\n    <tr>\n      <th>821</th>\n      <td>Wallace &amp; Gromit: The Best of Aardman Animatio...</td>\n      <td>4.486597</td>\n    </tr>\n    <tr>\n      <th>621</th>\n      <td>Rear Window (1954)</td>\n      <td>4.417316</td>\n    </tr>\n    <tr>\n      <th>1</th>\n      <td>12 Angry Men (1957)</td>\n      <td>4.404858</td>\n    </tr>\n    <tr>\n      <th>809</th>\n      <td>Usual Suspects, The (1995)</td>\n      <td>4.391677</td>\n    </tr>\n    <tr>\n      <th>763</th>\n      <td>Third Man, The (1949)</td>\n      <td>4.380057</td>\n    </tr>\n  </tbody>\n</table>\n</div>"
     },
     "metadata": {},
     "execution_count": 14
    }
   ],
   "source": [
    "# Algorithm: SVD\n",
    "algo = SVD()\n",
    "\n",
    "# Fitting the data for the SVD\n",
    "algo.fit(data.build_full_trainset())\n",
    "\n",
    "my_recs = []\n",
    "\n",
    "for iid in movies_to_predict:\n",
    "    my_recs.append((iid, algo.predict(uid=1001,iid=iid).est))\n",
    "    \n",
    "pd.DataFrame(my_recs, columns=['iid', 'predictions']).sort_values('predictions', ascending=False).head(10)"
   ]
  }
 ]
}