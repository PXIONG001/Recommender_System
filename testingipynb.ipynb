{
 "metadata": {
  "language_info": {
   "codemirror_mode": {
    "name": "ipython",
    "version": 3
   },
   "file_extension": ".py",
   "mimetype": "text/x-python",
   "name": "python",
   "nbconvert_exporter": "python",
   "pygments_lexer": "ipython3",
   "version": "3.9.1"
  },
  "orig_nbformat": 4,
  "kernelspec": {
   "name": "python3",
   "display_name": "Python 3.9.1 64-bit"
  },
  "interpreter": {
   "hash": "f7b1196636743eac6eb4a1c509dd850da349332db74e6ef77e858b436db1ec98"
  }
 },
 "nbformat": 4,
 "nbformat_minor": 2,
 "cells": [
  {
   "cell_type": "code",
   "execution_count": 10,
   "metadata": {},
   "outputs": [],
   "source": [
    "import numpy as np\n",
    "import pandas as pd\n",
    "\n"
   ]
  },
  {
   "cell_type": "code",
   "execution_count": 11,
   "metadata": {},
   "outputs": [
    {
     "output_type": "execute_result",
     "data": {
      "text/plain": [
       "   user_id   movie title  rating\n",
       "0      196  Kolya (1996)       3\n",
       "1       63  Kolya (1996)       3\n",
       "2      226  Kolya (1996)       5\n",
       "3      154  Kolya (1996)       3\n",
       "4      306  Kolya (1996)       5"
      ],
      "text/html": "<div>\n<style scoped>\n    .dataframe tbody tr th:only-of-type {\n        vertical-align: middle;\n    }\n\n    .dataframe tbody tr th {\n        vertical-align: top;\n    }\n\n    .dataframe thead th {\n        text-align: right;\n    }\n</style>\n<table border=\"1\" class=\"dataframe\">\n  <thead>\n    <tr style=\"text-align: right;\">\n      <th></th>\n      <th>user_id</th>\n      <th>movie title</th>\n      <th>rating</th>\n    </tr>\n  </thead>\n  <tbody>\n    <tr>\n      <th>0</th>\n      <td>196</td>\n      <td>Kolya (1996)</td>\n      <td>3</td>\n    </tr>\n    <tr>\n      <th>1</th>\n      <td>63</td>\n      <td>Kolya (1996)</td>\n      <td>3</td>\n    </tr>\n    <tr>\n      <th>2</th>\n      <td>226</td>\n      <td>Kolya (1996)</td>\n      <td>5</td>\n    </tr>\n    <tr>\n      <th>3</th>\n      <td>154</td>\n      <td>Kolya (1996)</td>\n      <td>3</td>\n    </tr>\n    <tr>\n      <th>4</th>\n      <td>306</td>\n      <td>Kolya (1996)</td>\n      <td>5</td>\n    </tr>\n  </tbody>\n</table>\n</div>"
     },
     "metadata": {},
     "execution_count": 11
    }
   ],
   "source": [
    "columns = ['user_id', 'item_id', 'rating', 'timestamp']\n",
    "\n",
    "df = pd.read_csv('ml-100k/u.data', sep='\\t', names=columns)\n",
    "columns = ['item_id', 'movie title', 'release date', 'video release date', 'IMDb URL', 'unknown', 'Action', 'Adventure',\n",
    "          'Animation', 'Childrens', 'Comedy', 'Crime', 'Documentary', 'Drama', 'Fantasy', 'Film-Noir', 'Horror',\n",
    "          'Musical', 'Mystery', 'Romance', 'Sci-Fi', 'Thriller', 'War', 'Western']\n",
    "\n",
    "movies = pd.read_csv('ml-100k/u.item', sep='|', names=columns, encoding='latin-1')\n",
    "\n",
    "movie_names = movies[['item_id', 'movie title']]\n",
    "combined_movies_data = pd.merge(df, movie_names, on='item_id')\n",
    "combined_movies_data = combined_movies_data[['user_id','movie title', 'rating']]\n",
    "combined_movies_data.head()"
   ]
  },
  {
   "cell_type": "code",
   "execution_count": 16,
   "metadata": {},
   "outputs": [
    {
     "output_type": "execute_result",
     "data": {
      "text/plain": [
       "    User ID                                           Movie  Ratings\n",
       "0       123                     Star Wars A New Hope (1977)      4.5\n",
       "1       123                               Braveheart (1995)      4.0\n",
       "2       123                            The Lion King (2019)      3.8\n",
       "3       123                                  Titanic (1997)      3.9\n",
       "4       123                               The Matrix (1999)      4.4\n",
       "5       123                                   Wall-E (2008)      4.5\n",
       "6       123                                 Deadpool (2016)      4.3\n",
       "7       123                           The Terminator (1984)      3.4\n",
       "8       123                    The Devil's Violinist (2013)      2.0\n",
       "9       123                  The Devil's Wears Prada (2006)      1.9\n",
       "10      123                   Spider-Man: Homecoming (2017)      4.6\n",
       "11      123                 The Last of the Mohicans (1992)      3.6\n",
       "12      123                              The Patriot (2000)      3.8\n",
       "13      123  Harry Potter and the Chamber of Secrets (2002)      4.1\n",
       "14      123                                     Cars (2006)      4.2\n",
       "15      123                 The Phantom of the Opera (2004)      4.0\n",
       "16      123                     Pride and Prejudice (2005)       3.6\n",
       "17      123                                  Top Gun (1986)      3.9\n",
       "18      123                        Bohemian Rhapsody (2018)      4.1"
      ],
      "text/html": "<div>\n<style scoped>\n    .dataframe tbody tr th:only-of-type {\n        vertical-align: middle;\n    }\n\n    .dataframe tbody tr th {\n        vertical-align: top;\n    }\n\n    .dataframe thead th {\n        text-align: right;\n    }\n</style>\n<table border=\"1\" class=\"dataframe\">\n  <thead>\n    <tr style=\"text-align: right;\">\n      <th></th>\n      <th>User ID</th>\n      <th>Movie</th>\n      <th>Ratings</th>\n    </tr>\n  </thead>\n  <tbody>\n    <tr>\n      <th>0</th>\n      <td>123</td>\n      <td>Star Wars A New Hope (1977)</td>\n      <td>4.5</td>\n    </tr>\n    <tr>\n      <th>1</th>\n      <td>123</td>\n      <td>Braveheart (1995)</td>\n      <td>4.0</td>\n    </tr>\n    <tr>\n      <th>2</th>\n      <td>123</td>\n      <td>The Lion King (2019)</td>\n      <td>3.8</td>\n    </tr>\n    <tr>\n      <th>3</th>\n      <td>123</td>\n      <td>Titanic (1997)</td>\n      <td>3.9</td>\n    </tr>\n    <tr>\n      <th>4</th>\n      <td>123</td>\n      <td>The Matrix (1999)</td>\n      <td>4.4</td>\n    </tr>\n    <tr>\n      <th>5</th>\n      <td>123</td>\n      <td>Wall-E (2008)</td>\n      <td>4.5</td>\n    </tr>\n    <tr>\n      <th>6</th>\n      <td>123</td>\n      <td>Deadpool (2016)</td>\n      <td>4.3</td>\n    </tr>\n    <tr>\n      <th>7</th>\n      <td>123</td>\n      <td>The Terminator (1984)</td>\n      <td>3.4</td>\n    </tr>\n    <tr>\n      <th>8</th>\n      <td>123</td>\n      <td>The Devil's Violinist (2013)</td>\n      <td>2.0</td>\n    </tr>\n    <tr>\n      <th>9</th>\n      <td>123</td>\n      <td>The Devil's Wears Prada (2006)</td>\n      <td>1.9</td>\n    </tr>\n    <tr>\n      <th>10</th>\n      <td>123</td>\n      <td>Spider-Man: Homecoming (2017)</td>\n      <td>4.6</td>\n    </tr>\n    <tr>\n      <th>11</th>\n      <td>123</td>\n      <td>The Last of the Mohicans (1992)</td>\n      <td>3.6</td>\n    </tr>\n    <tr>\n      <th>12</th>\n      <td>123</td>\n      <td>The Patriot (2000)</td>\n      <td>3.8</td>\n    </tr>\n    <tr>\n      <th>13</th>\n      <td>123</td>\n      <td>Harry Potter and the Chamber of Secrets (2002)</td>\n      <td>4.1</td>\n    </tr>\n    <tr>\n      <th>14</th>\n      <td>123</td>\n      <td>Cars (2006)</td>\n      <td>4.2</td>\n    </tr>\n    <tr>\n      <th>15</th>\n      <td>123</td>\n      <td>The Phantom of the Opera (2004)</td>\n      <td>4.0</td>\n    </tr>\n    <tr>\n      <th>16</th>\n      <td>123</td>\n      <td>Pride and Prejudice (2005)</td>\n      <td>3.6</td>\n    </tr>\n    <tr>\n      <th>17</th>\n      <td>123</td>\n      <td>Top Gun (1986)</td>\n      <td>3.9</td>\n    </tr>\n    <tr>\n      <th>18</th>\n      <td>123</td>\n      <td>Bohemian Rhapsody (2018)</td>\n      <td>4.1</td>\n    </tr>\n  </tbody>\n</table>\n</div>"
     },
     "metadata": {},
     "execution_count": 16
    }
   ],
   "source": [
    "my_ratings = pd.read_csv('myratings.csv')\n",
    "my_ratings"
   ]
  },
  {
   "cell_type": "code",
   "execution_count": 18,
   "metadata": {},
   "outputs": [],
   "source": [
    "combined_movies_data = pd.concat([combined_movies_data, my_ratings], axis=0)\n",
    "\n",
    "# rename the columns to userID, itemID and rating\n",
    "combined_movies_data.columns = ['userID', 'itemID', 'rating', 'movieTitle', 'year', 'title']\n",
    "\n",
    "# use the transform method group by userID and count to keep the movies with more than 25 reviews\n",
    "combined_movies_data['reviews'] = combined_movies_data.groupby(['itemID'])['rating'].transform('count')\n",
    "\n",
    "combined_movies_data= combined_movies_data[combined_movies_data.reviews>25][['userID', 'itemID', 'rating']]"
   ]
  },
  {
   "cell_type": "code",
   "execution_count": 20,
   "metadata": {},
   "outputs": [],
   "source": [
    "from surprise import NMF, SVD, SVDpp, KNNBasic, KNNWithMeans, KNNWithZScore, CoClustering\n",
    "from surprise.model_selection import cross_validate\n",
    "from surprise import Reader, Dataset"
   ]
  },
  {
   "cell_type": "code",
   "execution_count": 21,
   "metadata": {},
   "outputs": [],
   "source": [
    "reader = Reader(rating_scale=(1, 5))\n",
    "data = Dataset.load_from_df(combined_movies_data, reader)"
   ]
  },
  {
   "cell_type": "code",
   "execution_count": 22,
   "metadata": {},
   "outputs": [],
   "source": [
    "# get the list of the movie ids\n",
    "unique_ids = combined_movies_data['itemID'].unique()\n",
    "\n",
    "# get the list of the ids that the userid 1001 has rated\n",
    "iids1001 = combined_movies_data.loc[combined_movies_data['userID']==1001, 'itemID']\n",
    "\n",
    "# remove the rated movies for the recommendations\n",
    "movies_to_predict = np.setdiff1d(unique_ids,iids1001)"
   ]
  },
  {
   "cell_type": "code",
   "execution_count": 23,
   "metadata": {},
   "outputs": [
    {
     "output_type": "execute_result",
     "data": {
      "text/plain": [
       "                                                   iid  predictions\n",
       "171                              Close Shave, A (1995)     4.547188\n",
       "657                            Schindler's List (1993)     4.533540\n",
       "845                         Wrong Trousers, The (1993)     4.523851\n",
       "143                                  Casablanca (1942)     4.512100\n",
       "679                   Shawshank Redemption, The (1994)     4.494483\n",
       "821  Wallace & Gromit: The Best of Aardman Animatio...     4.432816\n",
       "621                                 Rear Window (1954)     4.423631\n",
       "1                                  12 Angry Men (1957)     4.409112\n",
       "809                         Usual Suspects, The (1995)     4.392920\n",
       "763                              Third Man, The (1949)     4.389623"
      ],
      "text/html": "<div>\n<style scoped>\n    .dataframe tbody tr th:only-of-type {\n        vertical-align: middle;\n    }\n\n    .dataframe tbody tr th {\n        vertical-align: top;\n    }\n\n    .dataframe thead th {\n        text-align: right;\n    }\n</style>\n<table border=\"1\" class=\"dataframe\">\n  <thead>\n    <tr style=\"text-align: right;\">\n      <th></th>\n      <th>iid</th>\n      <th>predictions</th>\n    </tr>\n  </thead>\n  <tbody>\n    <tr>\n      <th>171</th>\n      <td>Close Shave, A (1995)</td>\n      <td>4.547188</td>\n    </tr>\n    <tr>\n      <th>657</th>\n      <td>Schindler's List (1993)</td>\n      <td>4.533540</td>\n    </tr>\n    <tr>\n      <th>845</th>\n      <td>Wrong Trousers, The (1993)</td>\n      <td>4.523851</td>\n    </tr>\n    <tr>\n      <th>143</th>\n      <td>Casablanca (1942)</td>\n      <td>4.512100</td>\n    </tr>\n    <tr>\n      <th>679</th>\n      <td>Shawshank Redemption, The (1994)</td>\n      <td>4.494483</td>\n    </tr>\n    <tr>\n      <th>821</th>\n      <td>Wallace &amp; Gromit: The Best of Aardman Animatio...</td>\n      <td>4.432816</td>\n    </tr>\n    <tr>\n      <th>621</th>\n      <td>Rear Window (1954)</td>\n      <td>4.423631</td>\n    </tr>\n    <tr>\n      <th>1</th>\n      <td>12 Angry Men (1957)</td>\n      <td>4.409112</td>\n    </tr>\n    <tr>\n      <th>809</th>\n      <td>Usual Suspects, The (1995)</td>\n      <td>4.392920</td>\n    </tr>\n    <tr>\n      <th>763</th>\n      <td>Third Man, The (1949)</td>\n      <td>4.389623</td>\n    </tr>\n  </tbody>\n</table>\n</div>"
     },
     "metadata": {},
     "execution_count": 23
    }
   ],
   "source": [
    "algo = SVD()\n",
    "algo.fit(data.build_full_trainset())\n",
    "my_recs = []\n",
    "for iid in movies_to_predict:\n",
    "    my_recs.append((iid, algo.predict(uid=1001,iid=iid).est))\n",
    "    \n",
    "pd.DataFrame(my_recs, columns=['iid', 'predictions']).sort_values('predictions', ascending=False).head(10)"
   ]
  },
  {
   "cell_type": "code",
   "execution_count": null,
   "metadata": {},
   "outputs": [],
   "source": []
  }
 ]
}